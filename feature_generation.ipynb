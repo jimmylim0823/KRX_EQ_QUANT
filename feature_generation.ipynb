{
 "cells": [
  {
   "cell_type": "markdown",
   "id": "92481eda-9707-47a9-a48b-1c54970539f8",
   "metadata": {},
   "source": [
    "# Feature Generation"
   ]
  },
  {
   "cell_type": "code",
   "execution_count": 1,
   "id": "066c21d5-dcb9-4150-a666-f5ff08d1ac40",
   "metadata": {},
   "outputs": [],
   "source": [
    "import os\n",
    "import datetime\n",
    "import pandas as pd\n",
    "import numpy as np\n",
    "from tqdm import tqdm\n",
    "import joblib\n",
    "\n",
    "from Alpha_Research import Alpha_Research"
   ]
  },
  {
   "cell_type": "code",
   "execution_count": 2,
   "id": "96b53ef2-90c1-455c-87e6-501b02926fbb",
   "metadata": {},
   "outputs": [],
   "source": [
    "data_path = \"data\"\n",
    "file_name = \"data.sav\"\n",
    "file_path = os.path.join(data_path, file_name)"
   ]
  },
  {
   "cell_type": "code",
   "execution_count": 3,
   "id": "5897a709-2f44-47d3-8f53-53f148c080c0",
   "metadata": {},
   "outputs": [],
   "source": [
    "datas = joblib.load(file_path)\n",
    "data_daily = datas[0]\n",
    "data_monthly_acc = datas[1]\n",
    "data_monthly_mkt = datas[2]\n",
    "data_index = datas[3]\n",
    "data_classification = datas[4]\n",
    "data_weight = datas[5]"
   ]
  },
  {
   "cell_type": "code",
   "execution_count": 4,
   "id": "56b1e50f-7e91-4b62-995f-89703704ed06",
   "metadata": {},
   "outputs": [],
   "source": [
    "alpha_dict = dict()\n",
    "ar = Alpha_Research()"
   ]
  },
  {
   "cell_type": "markdown",
   "id": "6f3c1901-bb99-4135-af0e-fadb0c639c42",
   "metadata": {},
   "source": [
    "## Analyst Features"
   ]
  },
  {
   "cell_type": "code",
   "execution_count": 5,
   "id": "005d7178-bb2f-4711-addc-e2a35178ad2f",
   "metadata": {},
   "outputs": [],
   "source": [
    "features = [data_monthly_mkt['ANDEV'].apply(ar.previous_diff, args=(2,4,))]\n",
    "def operation(features):\n",
    "    return (features[0]).rank(pct=True)\n",
    "alpha_dict['andev_diff'] = ar.backtest(features, operation)"
   ]
  },
  {
   "cell_type": "markdown",
   "id": "25d304fc-9d31-4b25-8c18-74ff2f8a19b6",
   "metadata": {},
   "source": [
    "## Accounting Features"
   ]
  },
  {
   "cell_type": "code",
   "execution_count": 6,
   "id": "12f77ab7-4e83-445f-8d1e-41f74b9302b3",
   "metadata": {},
   "outputs": [],
   "source": [
    "features = [data_monthly_acc['ROA'].diff(6)]\n",
    "def operation(features):\n",
    "    return (features[0]).rank(pct=True)\n",
    "alpha_dict['roa_diff'] = ar.backtest(features, operation)"
   ]
  },
  {
   "cell_type": "code",
   "execution_count": 7,
   "id": "5f6db493-d7fd-4c58-95d9-d4de9bd9fa57",
   "metadata": {},
   "outputs": [],
   "source": [
    "features = [data_monthly_acc['ROE'].diff(12)]\n",
    "def operation(features):\n",
    "    return (features[0]).rank(pct=True)\n",
    "alpha_dict['roe_diff'] = ar.backtest(features, operation)"
   ]
  },
  {
   "cell_type": "code",
   "execution_count": 8,
   "id": "67aa037f-5215-4840-85ce-c9f05c11a831",
   "metadata": {},
   "outputs": [],
   "source": [
    "features = [data_monthly_acc['OPM'].diff(3)]\n",
    "def operation(features):\n",
    "    return (features[0]).rank(pct=True)\n",
    "alpha_dict['opm_diff'] = ar.backtest(features, operation)"
   ]
  },
  {
   "cell_type": "code",
   "execution_count": 9,
   "id": "a1d3bac1-2f76-4640-88c4-fc785e0c444b",
   "metadata": {},
   "outputs": [],
   "source": [
    "features = [data_monthly_acc['SGA'].diff(3)]\n",
    "def operation(features):\n",
    "    return (-features[0]).rank(pct=True)\n",
    "alpha_dict['sga_diff'] = ar.backtest(features, operation)"
   ]
  },
  {
   "cell_type": "code",
   "execution_count": 10,
   "id": "8f3c362f-1bcf-40d2-b7f0-e430da0cdba1",
   "metadata": {},
   "outputs": [],
   "source": [
    "features = [data_monthly_acc['DPO'].apply(ar.previous_diff, args=(13,25,))]\n",
    "def operation(features):\n",
    "    return (-features[0]).rank(pct=True)\n",
    "alpha_dict['dpo_diff'] = ar.backtest(features, operation)"
   ]
  },
  {
   "cell_type": "code",
   "execution_count": 11,
   "id": "9e087a78-37c2-4da0-bc96-2a69cc41e4d8",
   "metadata": {},
   "outputs": [],
   "source": [
    "features = [data_monthly_acc['DIV'].apply(ar.previous_diff, args=(13,25,))]\n",
    "def operation(features):\n",
    "    return (-features[0]).rank(pct=True)\n",
    "alpha_dict['div_diff'] = ar.backtest(features, operation)"
   ]
  },
  {
   "cell_type": "code",
   "execution_count": 12,
   "id": "9cf78c52-36c2-4ea4-9e6e-74aad16aa4c0",
   "metadata": {},
   "outputs": [],
   "source": [
    "features = [data_monthly_acc['CFOP'].apply(ar.previous_diff, args=(13,25,))]\n",
    "def operation(features):\n",
    "    return features[0].rank(pct=True)\n",
    "alpha_dict['cfop_diff'] = ar.backtest(features, operation)"
   ]
  },
  {
   "cell_type": "code",
   "execution_count": 13,
   "id": "91d13b54-dec3-4fc4-bb79-55db05ae8d71",
   "metadata": {},
   "outputs": [],
   "source": [
    "features = [data_monthly_acc['GPM'].diff(36)]\n",
    "def operation(features):\n",
    "    return (features[0]).rank(pct=True)\n",
    "alpha_dict['gpm_diff'] = ar.backtest(features, operation)"
   ]
  },
  {
   "cell_type": "code",
   "execution_count": 14,
   "id": "fefc8bb9-0790-42bb-93f4-3326eead28e9",
   "metadata": {},
   "outputs": [],
   "source": [
    "features = [data_monthly_acc['SG'].apply(ar.previous_diff, args=(13,25,))]\n",
    "def operation(features):\n",
    "    return (features[0]).rank(pct=True)\n",
    "alpha_dict['sg_diff'] = ar.backtest(features, operation)"
   ]
  },
  {
   "cell_type": "code",
   "execution_count": 15,
   "id": "80d4d95c-05b9-4db1-99a3-d3832f25dd84",
   "metadata": {},
   "outputs": [],
   "source": [
    "features = [data_monthly_acc['GPG'].diff(36)]\n",
    "def operation(features):\n",
    "    return (features[0]).rank(pct=True)\n",
    "alpha_dict['gpg_diff'] = ar.backtest(features, operation)"
   ]
  },
  {
   "cell_type": "code",
   "execution_count": 16,
   "id": "3e55f8ab-c6ac-4592-bcf2-1df759c20cb6",
   "metadata": {},
   "outputs": [],
   "source": [
    "features = [data_monthly_acc['OPG'].diff(36)]\n",
    "def operation(features):\n",
    "    return (features[0]).rank(pct=True)\n",
    "alpha_dict['opg_diff'] = ar.backtest(features, operation)"
   ]
  },
  {
   "cell_type": "code",
   "execution_count": 17,
   "id": "f69951ad-16e6-406d-85ea-9c89fc9675df",
   "metadata": {},
   "outputs": [],
   "source": [
    "features = [(data_monthly_acc['GP']/data_monthly_mkt['CAP']).diff(4)]\n",
    "def operation(features):\n",
    "    return (features[0]).rank(pct=True)\n",
    "alpha_dict['gpc_diff'] = ar.backtest(features, operation)"
   ]
  },
  {
   "cell_type": "markdown",
   "id": "7008b751-5a25-4d28-86c0-f30e1bf36ce2",
   "metadata": {},
   "source": [
    "## Market Features"
   ]
  },
  {
   "cell_type": "code",
   "execution_count": 18,
   "id": "f8891b75-262b-4720-9017-db5f277479e1",
   "metadata": {},
   "outputs": [],
   "source": [
    "features = [data_monthly_mkt['V20'].diff(1)]\n",
    "def operation(features):\n",
    "    return (features[0]).rank(pct=True)\n",
    "alpha_dict['v20_diff'] = ar.backtest(features, operation)"
   ]
  },
  {
   "cell_type": "code",
   "execution_count": 19,
   "id": "75bc0327-14b0-4c19-a3c6-91f82b163c93",
   "metadata": {},
   "outputs": [],
   "source": [
    "features = [(data_monthly_mkt['ADV20']/data_monthly_mkt['ADV52']).diff(1)]\n",
    "def operation(features):\n",
    "    return (features[0]).rank(pct=True)\n",
    "alpha_dict['adv20adv52_diff'] = ar.backtest(features, operation)"
   ]
  },
  {
   "cell_type": "markdown",
   "id": "02b8d567-4b86-4760-9907-fd6f4341f5f7",
   "metadata": {},
   "source": [
    "## Alpha Pool Analysis"
   ]
  },
  {
   "cell_type": "code",
   "execution_count": 20,
   "id": "a2ba0d50-87c8-4105-bc8c-c5f77f3b64ab",
   "metadata": {},
   "outputs": [
    {
     "name": "stdout",
     "output_type": "stream",
     "text": [
      "v20_diff and adv20adv52_diff have correlation: 0.68\n",
      "cfop_diff and gpm_diff have correlation: 0.57\n",
      "sg_diff and gpg_diff have correlation: 0.56\n",
      "roe_diff and cfop_diff have correlation: 0.53\n",
      "gpm_diff and opg_diff have correlation: 0.52\n",
      "                 2010  2011  2012  2013  2014  2015  2016  2017  2018  2019  \\\n",
      "Min Long Count     67    61    58    66    81    85    90    93    92    95   \n",
      "Min Short Count    60    62    63    62    80    77    89    88    94    84   \n",
      "\n",
      "                 2020  2021  2022  2023  \n",
      "Min Long Count     94    90    98    94  \n",
      "Min Short Count    91    96    94    91  \n"
     ]
    },
    {
     "data": {
      "image/png": "[encoded data removed]",
      "text/plain": [
       "<Figure size 640x480 with 1 Axes>"
      ]
     },
     "metadata": {},
     "output_type": "display_data"
    }
   ],
   "source": [
    "ar.alpha_pool(alpha_dict)"
   ]
  },
  {
   "cell_type": "markdown",
   "id": "37d951eb-a2a4-4106-8947-bb02739408c1",
   "metadata": {},
   "source": [
    "## Extra Time Series Data"
   ]
  },
  {
   "cell_type": "code",
   "execution_count": 21,
   "id": "ac3d5a10-8494-4115-92c2-2c59cd3cdc54",
   "metadata": {},
   "outputs": [],
   "source": [
    "market_dict = dict()\n",
    "# basic\n",
    "market_dict['ADJC'] = ar.monthly_resampling(data_daily['ADJC'])\n",
    "market_dict['V'] = ar.monthly_resampling(data_daily['V'])\n",
    "\n",
    "# shift\n",
    "for i in range(1, 13):\n",
    "    market_dict[f'ADJC_{i}'] = market_dict['ADJC'].shift(i)\n",
    "    market_dict[f'V_{i}'] = market_dict['V'].shift(i)\n",
    "\n",
    "# ts_zscores\n",
    "for i in [10, 20, 40, 60, 120, 252]:\n",
    "    market_dict[f'ADJC_Z_{i}'] = data_daily['ADJC'].apply(ar.ts_zscore, args=(5,))\n",
    "    market_dict[f'V_Z_{i}'] = data_daily['ADJC'].apply(ar.ts_zscore, args=(5,))\n",
    "    for j in range(1, 13):\n",
    "        market_dict[f'ADJC_Z_{i}_{j}'] = market_dict[f'ADJC_Z_{i}'].shift(1)\n",
    "        market_dict[f'V_Z_{i}_{j}'] = market_dict[f'ADJC_Z_{i}'].shift(1)\n",
    "\n",
    "# highs\n",
    "market_dict['HIGH20'] = ar.monthly_resampling(data_daily['ADJC'].rolling(20).max())\n",
    "market_dict['HIGH40'] = ar.monthly_resampling(data_daily['ADJC'].rolling(40).max())\n",
    "market_dict['HIGH60'] = ar.monthly_resampling(data_daily['ADJC'].rolling(60).max())\n",
    "market_dict['HIGH120'] = ar.monthly_resampling(data_daily['ADJC'].rolling(120).max())\n",
    "market_dict['HIGH52'] = data_monthly_mkt['HIGH52']\n",
    "\n",
    "# lows\n",
    "market_dict['LOW20'] = ar.monthly_resampling(data_daily['ADJC'].rolling(20).min())\n",
    "market_dict['LOW40'] = ar.monthly_resampling(data_daily['ADJC'].rolling(40).min())\n",
    "market_dict['LOW60'] = ar.monthly_resampling(data_daily['ADJC'].rolling(60).min())\n",
    "market_dict['LOW120'] = ar.monthly_resampling(data_daily['ADJC'].rolling(120).min())\n",
    "market_dict['LOW52'] = data_monthly_mkt['LOW52']\n",
    "\n",
    "# avg\n",
    "market_dict['AVG20'] = data_monthly_mkt['AVG20']\n",
    "market_dict['AVG40'] = ar.monthly_resampling(data_daily['ADJC'].rolling(40).mean())\n",
    "market_dict['AVG60'] = ar.monthly_resampling(data_daily['ADJC'].rolling(60).mean())\n",
    "market_dict['AVG120'] = ar.monthly_resampling(data_daily['ADJC'].rolling(120).mean())\n",
    "market_dict['AVG52'] = ar.monthly_resampling(data_daily['ADJC'].rolling(120).mean())\n",
    "\n",
    "# return\n",
    "market_dict['RET10'] = data_monthly_mkt['RET1W'] / 100\n",
    "market_dict['RET20'] = data_monthly_mkt['RET20'] / 100\n",
    "market_dict['RET40'] = ar.monthly_resampling(data_daily['ADJC'].pct_change(40))\n",
    "market_dict['RET60'] = data_monthly_mkt['RET3M'] / 100\n",
    "market_dict['RET120'] = data_monthly_mkt['RET6M'] / 100\n",
    "market_dict['RET52'] = data_monthly_mkt['RET1Y'] / 100\n",
    "\n",
    "# vol\n",
    "market_dict['VOL5'] = data_monthly_mkt['VOL5']\n",
    "market_dict['VOL20'] = data_monthly_mkt['VOL20']\n",
    "market_dict['VOL60'] = data_monthly_mkt['VOL60']\n",
    "market_dict['VOL120'] = data_monthly_mkt['VOL120']\n",
    "market_dict['VOL52'] = data_monthly_mkt['VOL52']\n",
    "\n",
    "# adv\n",
    "market_dict['ADV20'] = data_monthly_mkt['ADV20']\n",
    "market_dict['ADV52'] = data_monthly_mkt['ADV52']\n",
    "\n",
    "# cap\n",
    "market_dict['ADV52'] = data_monthly_mkt['ADV52']"
   ]
  },
  {
   "cell_type": "code",
   "execution_count": 22,
   "id": "a245b76e-2810-4c39-aa68-33afbeb7ddd7",
   "metadata": {},
   "outputs": [
    {
     "name": "stderr",
     "output_type": "stream",
     "text": [
      "100%|████████████████████████████████████████████████████████████████████████████████| 210/210 [11:17<00:00,  3.23s/it]\n"
     ]
    }
   ],
   "source": [
    "extras_dict = dict()\n",
    "for i, v in tqdm(market_dict.items()):\n",
    "    features = [v]\n",
    "    def operation(features):\n",
    "        return (features[0]).rank(pct=True)\n",
    "    extras_dict[i.lower()] = ar.backtest(features, operation)"
   ]
  },
  {
   "cell_type": "markdown",
   "id": "df35b400-0894-4cb8-87c4-c0deb5bcb09a",
   "metadata": {},
   "source": [
    "## Training Data Stacking"
   ]
  },
  {
   "cell_type": "code",
   "execution_count": 23,
   "id": "09b289d2-413b-45f0-a37a-b40a10a4a68b",
   "metadata": {},
   "outputs": [
    {
     "name": "stderr",
     "output_type": "stream",
     "text": [
      "100%|████████████████████████████████████████████████████████████████████████████████| 526/526 [00:10<00:00, 48.88it/s]\n"
     ]
    }
   ],
   "source": [
    "stack_list = []\n",
    "for ticker in tqdm(ar.df_target.columns):\n",
    "    temp_dict = dict()\n",
    "    for alpha in list(alpha_dict.keys()):\n",
    "        try:\n",
    "            temp_dict[alpha] = alpha_dict[alpha][1][ticker]\n",
    "        except KeyError:\n",
    "            pass\n",
    "    \n",
    "    for extra in list(extras_dict.keys()):\n",
    "        try:\n",
    "            temp_dict[extra] = extras_dict[extra][1][ticker]\n",
    "        except KeyError:\n",
    "            pass\n",
    "    \n",
    "    temp_dict['fgsc'] = ar.fgsc[ticker]\n",
    "    temp_dict['year'] = [i.year for i in list(ar.df_target.index)]\n",
    "    temp_dict['month'] = [i.month for i in list(ar.df_target.index)]\n",
    "    temp_dict['target'] = ar.df_target[ticker]\n",
    "\n",
    "    df_temp = pd.DataFrame(temp_dict)\n",
    "    df_temp.reset_index(inplace=True)\n",
    "    df_temp.rename(columns={'index':'Date'}, inplace=True)\n",
    "    df_temp['Ticker'] = ticker\n",
    "    \n",
    "    df_temp.set_index(['Date', 'Ticker'], inplace=True)\n",
    "    stack_list.append(df_temp)"
   ]
  },
  {
   "cell_type": "code",
   "execution_count": 24,
   "id": "42152502-62f3-48eb-9c15-0a30e2e101f0",
   "metadata": {},
   "outputs": [],
   "source": [
    "df_stack = pd.DataFrame()\n",
    "df_stack = pd.concat(stack_list, axis=0)\n",
    "df_stack = df_stack[df_stack.iloc[:,:-1].notnull().sum(axis=1)>5]\n",
    "df_stack = df_stack[~df_stack.iloc[:,-1].isna()]\n",
    "LB = np.percentile(df_stack.iloc[:,-1], 1)\n",
    "UB = np.percentile(df_stack.iloc[:,-1], 99)\n",
    "df_stack['target'] = df_stack['target'].clip(lower=LB, upper=UB)\n",
    "df_stack.sort_values(['Date'], inplace=True)\n",
    "df_stack['fgsc'] = df_stack['fgsc'].astype(\"category\")"
   ]
  },
  {
   "cell_type": "code",
   "execution_count": 25,
   "id": "17739624-77d2-48ce-9d26-aa7cb4cd096b",
   "metadata": {},
   "outputs": [
    {
     "name": "stderr",
     "output_type": "stream",
     "text": [
      "100%|████████████████████████████████████████████████████████████████████████████████| 153/153 [00:02<00:00, 67.93it/s]\n"
     ]
    }
   ],
   "source": [
    "# demean by date and sector\n",
    "demean_list = []\n",
    "for dt in tqdm(ar.df_target.index):\n",
    "    for sc in ar.fgsc.unique():\n",
    "        temp = df_stack.loc[(dt, slice(None)), :].copy()\n",
    "        temp = temp[temp['fgsc']==sc]\n",
    "        temp['target'] = temp['target'].sub(temp['target'].mean())\n",
    "        demean_list.append(temp)\n",
    "df_stack = pd.concat(demean_list, axis=0)"
   ]
  },
  {
   "cell_type": "code",
   "execution_count": 26,
   "id": "a4c37901-4502-433c-9d05-cc9fbd964bde",
   "metadata": {},
   "outputs": [],
   "source": [
    "stack_name = os.path.join(data_path, \"data_stack.h5\")\n",
    "df_stack.to_hdf(stack_name, key='df', mode='w', format=\"table\")"
   ]
  },
  {
   "cell_type": "code",
   "execution_count": null,
   "id": "9f23e1d8-e655-4251-b386-884ac2a19f5f",
   "metadata": {},
   "outputs": [],
   "source": []
  }
 ],
 "metadata": {
  "kernelspec": {
   "display_name": "Python 3 (ipykernel)",
   "language": "python",
   "name": "python3"
  },
  "language_info": {
   "codemirror_mode": {
    "name": "ipython",
    "version": 3
   },
   "file_extension": ".py",
   "mimetype": "text/x-python",
   "name": "python",
   "nbconvert_exporter": "python",
   "pygments_lexer": "ipython3",
   "version": "3.9.13"
  }
 },
 "nbformat": 4,
 "nbformat_minor": 5
}
