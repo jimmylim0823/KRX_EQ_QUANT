{
 "cells": [
  {
   "cell_type": "markdown",
   "id": "92481eda-9707-47a9-a48b-1c54970539f8",
   "metadata": {},
   "source": [
    "# Feature Generation"
   ]
  },
  {
   "cell_type": "code",
   "execution_count": 1,
   "id": "066c21d5-dcb9-4150-a666-f5ff08d1ac40",
   "metadata": {},
   "outputs": [],
   "source": [
    "import os\n",
    "import datetime\n",
    "import pandas as pd\n",
    "import numpy as np\n",
    "from tqdm import tqdm\n",
    "import joblib\n",
    "\n",
    "from Alpha_Research import Alpha_Research\n",
    "from Formulaic_Alpha import *"
   ]
  },
  {
   "cell_type": "code",
   "execution_count": 2,
   "id": "56b1e50f-7e91-4b62-995f-89703704ed06",
   "metadata": {},
   "outputs": [],
   "source": [
    "alpha_dict = dict()\n",
    "ar = Alpha_Research()"
   ]
  },
  {
   "cell_type": "markdown",
   "id": "25d304fc-9d31-4b25-8c18-74ff2f8a19b6",
   "metadata": {
    "tags": []
   },
   "source": [
    "## Accounting Features"
   ]
  },
  {
   "cell_type": "code",
   "execution_count": 3,
   "id": "12f77ab7-4e83-445f-8d1e-41f74b9302b3",
   "metadata": {},
   "outputs": [],
   "source": [
    "features = [ts_last_change(ar.m['ROA'], 6)]\n",
    "def operation(x):\n",
    "    return rank(x[0])\n",
    "alpha_dict['roa_change_6'] = ar.backtest(features, operation)"
   ]
  },
  {
   "cell_type": "code",
   "execution_count": 4,
   "id": "67aa037f-5215-4840-85ce-c9f05c11a831",
   "metadata": {},
   "outputs": [],
   "source": [
    "features = [ts_last_change(ar.m['OPM'])]\n",
    "def operation(x):\n",
    "    return rank(x[0])\n",
    "alpha_dict['opm_change'] = ar.backtest(features, operation)"
   ]
  },
  {
   "cell_type": "code",
   "execution_count": 5,
   "id": "02318022-b5e2-4a23-ae49-47ea0126cc34",
   "metadata": {},
   "outputs": [],
   "source": [
    "features = [-ts_last_pct(ar.m['A'], 12)]\n",
    "def operation(x):\n",
    "    return rank(x[0])\n",
    "alpha_dict['a_pct_12'] = ar.backtest(features, operation)"
   ]
  },
  {
   "cell_type": "code",
   "execution_count": 6,
   "id": "25ac9502-3225-4810-8064-00a8eb370fa6",
   "metadata": {},
   "outputs": [],
   "source": [
    "features = [ts_last_change(ar.m['SG'])]\n",
    "def operation(x):\n",
    "    return rank(x[0])\n",
    "alpha_dict['sg_change'] = ar.backtest(features, operation)"
   ]
  },
  {
   "cell_type": "code",
   "execution_count": 7,
   "id": "7bda1986-dac6-4c0e-9ecb-152d9afc1dad",
   "metadata": {},
   "outputs": [],
   "source": [
    "features = [ar.m['OPG']]\n",
    "def operation(x):\n",
    "    return rank(x[0])\n",
    "alpha_dict['opg'] = ar.backtest(features, operation)"
   ]
  },
  {
   "cell_type": "code",
   "execution_count": 8,
   "id": "b30ccdcc-7730-4bb8-8897-bd97be639b34",
   "metadata": {},
   "outputs": [],
   "source": [
    "features = [ar.m['GPG']]\n",
    "def operation(x):\n",
    "    return rank(x[0])\n",
    "alpha_dict['gpg'] = ar.backtest(features, operation)"
   ]
  },
  {
   "cell_type": "code",
   "execution_count": 9,
   "id": "615e46bc-ce75-4bb6-9c87-c7a7937b50b2",
   "metadata": {},
   "outputs": [],
   "source": [
    "features = [-ts_last_change(ar.m['DIV'])]\n",
    "def operation(x):\n",
    "    return rank(x[0])\n",
    "alpha_dict['div_change'] = ar.backtest(features, operation)"
   ]
  },
  {
   "cell_type": "code",
   "execution_count": 10,
   "id": "fb53ea1a-d46d-4a79-af23-ab3f918dc530",
   "metadata": {},
   "outputs": [],
   "source": [
    "features = [ts_last_pct(ar.m['GP'])]\n",
    "def operation(x):\n",
    "    return rank(x[0])\n",
    "alpha_dict['gp_pct'] = ar.backtest(features, operation)"
   ]
  },
  {
   "cell_type": "code",
   "execution_count": 11,
   "id": "89ee99d1-c016-4f3b-a6fa-64cdb186b3e9",
   "metadata": {},
   "outputs": [],
   "source": [
    "features = [-ts_last_change(ar.m['OPM']/ar.m['ROA'])]\n",
    "def operation(x):\n",
    "    return rank(x[0])\n",
    "alpha_dict['opm_roa_change'] = ar.backtest(features, operation)"
   ]
  },
  {
   "cell_type": "markdown",
   "id": "7008b751-5a25-4d28-86c0-f30e1bf36ce2",
   "metadata": {},
   "source": [
    "## Market Features"
   ]
  },
  {
   "cell_type": "code",
   "execution_count": 12,
   "id": "77998814-ff4c-44e9-951b-fb260197eeb1",
   "metadata": {},
   "outputs": [],
   "source": [
    "features = [ts_change(ar.m['VOL20'], 1)]\n",
    "def operation(x):\n",
    "    return rank(x[0])\n",
    "alpha_dict['vol20_change'] = ar.backtest(features, operation)"
   ]
  },
  {
   "cell_type": "code",
   "execution_count": 13,
   "id": "742a3511-a6b6-4a48-9c6f-a2c03a1f8e50",
   "metadata": {},
   "outputs": [],
   "source": [
    "features = [ts_pct(ar.m['V20'], 1)]\n",
    "def operation(x):\n",
    "    return rank(x[0])\n",
    "alpha_dict['v20_pct'] = ar.backtest(features, operation)"
   ]
  },
  {
   "cell_type": "code",
   "execution_count": 14,
   "id": "5358161d-c180-4159-a0df-eccce8d032a7",
   "metadata": {},
   "outputs": [],
   "source": [
    "y = ar.d['ADJC']\n",
    "x = ts_delay(y, 1)\n",
    "\n",
    "window = 60\n",
    "beta = ts_slope(x, y, 60)\n",
    "\n",
    "se = ts_std(y - beta * x, window)\n",
    "\n",
    "t_stat = beta / (se / (window - 2) ** 0.5)\n",
    "t_stat = to_monthly(t_stat)\n",
    "\n",
    "features = [t_stat]\n",
    "def operation(x):\n",
    "    return rank(x[0])\n",
    "alpha_dict['ar1_tstat'] = ar.backtest(features, operation)"
   ]
  },
  {
   "cell_type": "code",
   "execution_count": 15,
   "id": "b14524d5-02c7-410c-b7e9-5c9a86fe7131",
   "metadata": {},
   "outputs": [],
   "source": [
    "y = ar.d['ADJC']\n",
    "x = y.shift(1)\n",
    "\n",
    "window = 60\n",
    "ar1_corr = x.rolling(window).corr(y)\n",
    "ar1_corr = to_monthly(ar1_corr)\n",
    "\n",
    "features = [ar1_corr]\n",
    "def operation(x):\n",
    "    return rank(x[0])\n",
    "alpha_dict['ar1_corr'] = ar.backtest(features, operation)"
   ]
  },
  {
   "cell_type": "markdown",
   "id": "02b8d567-4b86-4760-9907-fd6f4341f5f7",
   "metadata": {},
   "source": [
    "## Alpha Pool Analysis"
   ]
  },
  {
   "cell_type": "code",
   "execution_count": 16,
   "id": "a2ba0d50-87c8-4105-bc8c-c5f77f3b64ab",
   "metadata": {},
   "outputs": [
    {
     "name": "stdout",
     "output_type": "stream",
     "text": [
      "opg and gpg have correlation: 0.61\n",
      "vol20_change and v20_pct have correlation: 0.55\n",
      "roa_change_6 and opm_change have correlation: 0.55\n",
      "opm_change and gp_pct have correlation: 0.51\n",
      "a_pct_12 and ar1_tstat have correlation: 0.50\n",
      "                 2010  2011  2012  2013  2014  2015  2016  2017  2018  2019  \\\n",
      "Min Long Count     62    62    60    62    81    79    87    95    96    89   \n",
      "Min Short Count    68    62    61    67    81    84    89    93    95    97   \n",
      "\n",
      "                 2020  2021  2022  2023  \n",
      "Min Long Count     95    91    91    94  \n",
      "Min Short Count    96    94    94    98  \n"
     ]
    },
    {
     "data": {
      "image/png": "[encoded data removed]",
      "text/plain": [
       "<Figure size 640x480 with 1 Axes>"
      ]
     },
     "metadata": {},
     "output_type": "display_data"
    }
   ],
   "source": [
    "ar.alpha_pool(alpha_dict)"
   ]
  },
  {
   "cell_type": "markdown",
   "id": "df35b400-0894-4cb8-87c4-c0deb5bcb09a",
   "metadata": {},
   "source": [
    "## Training Data Stacking"
   ]
  },
  {
   "cell_type": "code",
   "execution_count": 17,
   "id": "09b289d2-413b-45f0-a37a-b40a10a4a68b",
   "metadata": {},
   "outputs": [
    {
     "name": "stderr",
     "output_type": "stream",
     "text": [
      "100%|███████████████████████████████████████████████████████████████████████████████| 526/526 [00:01<00:00, 280.47it/s]\n"
     ]
    }
   ],
   "source": [
    "stack_list = []\n",
    "for ticker in tqdm(ar.df_target.columns):\n",
    "    temp_dict = dict()\n",
    "    for alpha in list(alpha_dict.keys()):\n",
    "        try:\n",
    "            temp_dict[alpha] = alpha_dict[alpha][1][ticker]\n",
    "        except KeyError:\n",
    "            pass\n",
    "    \n",
    "    temp_dict['fgsc'] = ar.fgsc[ticker]\n",
    "    temp_dict['year'] = [i.year for i in list(ar.df_target.index)]\n",
    "    temp_dict['month'] = [i.month for i in list(ar.df_target.index)]\n",
    "    temp_dict['target'] = ar.df_target[ticker]\n",
    "\n",
    "    df_temp = pd.DataFrame(temp_dict)\n",
    "    df_temp.reset_index(inplace=True)\n",
    "    df_temp.rename(columns={'index':'Date'}, inplace=True)\n",
    "    df_temp['Ticker'] = ticker # for index\n",
    "\n",
    "    df_temp.set_index(['Date', 'Ticker'], inplace=True)\n",
    "    stack_list.append(df_temp)"
   ]
  },
  {
   "cell_type": "code",
   "execution_count": 18,
   "id": "42152502-62f3-48eb-9c15-0a30e2e101f0",
   "metadata": {},
   "outputs": [],
   "source": [
    "df_stack = pd.DataFrame()\n",
    "df_stack = pd.concat(stack_list, axis=0)\n",
    "df_stack = df_stack[df_stack.iloc[:,:-1].notnull().sum(axis=1)>5]\n",
    "df_stack = df_stack[~df_stack.iloc[:,-1].isna()]\n",
    "LB = np.percentile(df_stack.iloc[:,-1], 1)\n",
    "UB = np.percentile(df_stack.iloc[:,-1], 99)\n",
    "df_stack['target'] = df_stack['target'].clip(lower=LB, upper=UB)\n",
    "df_stack.sort_index(inplace=True)\n",
    "df_stack['fgsc'] = df_stack['fgsc'].astype(\"category\")\n",
    "new_list = list(df_stack.columns[-4:-1]) + list(df_stack.columns)[:-4] + ['target']\n",
    "df_stack = df_stack[new_list]"
   ]
  },
  {
   "cell_type": "code",
   "execution_count": 19,
   "id": "17739624-77d2-48ce-9d26-aa7cb4cd096b",
   "metadata": {},
   "outputs": [
    {
     "name": "stderr",
     "output_type": "stream",
     "text": [
      "100%|████████████████████████████████████████████████████████████████████████████████| 153/153 [00:01<00:00, 91.75it/s]\n"
     ]
    }
   ],
   "source": [
    "# demean by date and sector\n",
    "demean_list = []\n",
    "for dt in tqdm(ar.df_target.index):\n",
    "    for sc in ar.fgsc.unique():\n",
    "        temp = df_stack.loc[(dt, slice(None)), :].copy()\n",
    "        temp = temp[temp['fgsc']==sc]\n",
    "        temp['target'] = temp['target'].sub(temp['target'].mean())\n",
    "        demean_list.append(temp)\n",
    "df_stack = pd.concat(demean_list, axis=0)"
   ]
  },
  {
   "cell_type": "code",
   "execution_count": 20,
   "id": "a4c37901-4502-433c-9d05-cc9fbd964bde",
   "metadata": {},
   "outputs": [],
   "source": [
    "data_path = \"data\"\n",
    "stack_name = os.path.join(data_path, \"data_stack.h5\")\n",
    "df_stack.to_hdf(stack_name, key='df', mode='w', format=\"table\")"
   ]
  },
  {
   "cell_type": "code",
   "execution_count": null,
   "id": "e91775e5-4e48-43f1-b824-fa4fcfbace55",
   "metadata": {},
   "outputs": [],
   "source": []
  }
 ],
 "metadata": {
  "kernelspec": {
   "display_name": "Python 3 (ipykernel)",
   "language": "python",
   "name": "python3"
  },
  "language_info": {
   "codemirror_mode": {
    "name": "ipython",
    "version": 3
   },
   "file_extension": ".py",
   "mimetype": "text/x-python",
   "name": "python",
   "nbconvert_exporter": "python",
   "pygments_lexer": "ipython3",
   "version": "3.9.13"
  }
 },
 "nbformat": 4,
 "nbformat_minor": 5
}
