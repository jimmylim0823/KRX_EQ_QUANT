{
 "cells": [
  {
   "cell_type": "markdown",
   "id": "510ebb6a-89a8-4cc0-8292-ad77a66144ed",
   "metadata": {},
   "source": [
    "# Portfolio Contrsuction"
   ]
  },
  {
   "cell_type": "code",
   "execution_count": 1,
   "id": "68ced553-120f-4c88-b4ee-3fb6ed460762",
   "metadata": {},
   "outputs": [],
   "source": [
    "import os\n",
    "from tqdm import tqdm\n",
    "import pandas as pd\n",
    "import numpy as np\n",
    "import seaborn as sns\n",
    "import matplotlib.pyplot as plt\n",
    "import xgboost as xgb\n",
    "import cvxpy as cp\n",
    "from sklearn.covariance import LedoitWolf"
   ]
  },
  {
   "cell_type": "code",
   "execution_count": 2,
   "id": "1285df9c-cd8c-4c4e-95a9-07a5f7ed7137",
   "metadata": {},
   "outputs": [],
   "source": [
    "model_folder = \"model\"\n",
    "\n",
    "is_name = os.path.join(model_folder, \"df_is.h5\")\n",
    "df_is = pd.read_hdf(is_name)\n",
    "os_name = os.path.join(model_folder, \"df_os.h5\")\n",
    "df_os = pd.read_hdf(os_name)\n",
    "\n",
    "model_name = os.path.join(model_folder, \"xgb.json\")\n",
    "xgb_model = xgb.XGBRegressor()\n",
    "xgb_model.load_model(model_name)\n",
    "\n",
    "data_folder = \"data\"\n",
    "adjp_name = os.path.join(data_folder, \"data_adjp.h5\")\n",
    "df_adjp = pd.read_hdf(adjp_name)"
   ]
  },
  {
   "cell_type": "code",
   "execution_count": 3,
   "id": "cdf26ce8-b82d-4ea8-bdba-7224c5c2fdfb",
   "metadata": {},
   "outputs": [],
   "source": [
    "df_is_dts = df_is.reset_index()['Date']\n",
    "df_is_dt = df_is_dts[~df_is_dts.duplicated()].to_list()\n",
    "df_os_dts = df_os.reset_index()['Date']\n",
    "df_os_dt = df_os_dts[~df_os_dts.duplicated()].to_list()"
   ]
  },
  {
   "cell_type": "code",
   "execution_count": 4,
   "id": "e20ea974-7afd-4281-912a-b0de1e7cf31c",
   "metadata": {},
   "outputs": [],
   "source": [
    "df_isos = pd.concat([df_is, df_os], axis=0, join='inner')\n",
    "df_isos_dts = df_isos.reset_index()['Date']\n",
    "df_isos_dt = df_isos_dts[~df_isos_dts.duplicated()].to_list()"
   ]
  },
  {
   "cell_type": "code",
   "execution_count": 5,
   "id": "1a917b4a-0de5-4d90-8021-dffd53c3b2a5",
   "metadata": {},
   "outputs": [
    {
     "name": "stderr",
     "output_type": "stream",
     "text": [
      "100%|██████████████████████████████████████████████████████████████████████████████████| 34/34 [00:40<00:00,  1.18s/it]\n"
     ]
    }
   ],
   "source": [
    "# portfolio optimization\n",
    "portfolio_weights = []\n",
    "\n",
    "for date in tqdm(df_os_dt):\n",
    "    # expexted return\n",
    "    df_temp = df_os.loc[date].copy()\n",
    "    universe = df_temp.index.to_list()\n",
    "    features = list(df_temp.columns)[:-1]\n",
    "    df_features = df_temp[features].copy()\n",
    "    df_features['ER'] = xgb_model.predict(df_features)\n",
    "\n",
    "    # covariance estimation with Ledoit-Wolf Shirnkage\n",
    "    idx = df_adjp.index.to_list().index(date)\n",
    "    df_p = df_adjp[universe].iloc[idx-252*3:idx+1]\n",
    "    df_ret = df_p.pct_change().iloc[1:]\n",
    "    df_ret = df_ret.T.fillna(df_ret.mean(axis=1)).T\n",
    "    cov = LedoitWolf().fit(df_ret)\n",
    "    df_cov = pd.DataFrame(cov.covariance_*np.sqrt(252 / 12),\n",
    "                          index=universe, columns=universe)\n",
    "\n",
    "    # long-short mean variance optimization\n",
    "    # define variables\n",
    "    x = cp.Variable(len(universe))\n",
    "    var = cp.quad_form(x, df_cov.to_numpy())\n",
    "    e_r = df_features['ER'].to_numpy() @ x\n",
    "\n",
    "    # define parameters\n",
    "    r_a = cp.Parameter(nonneg=True, name='ra')\n",
    "    ub = cp.Parameter(nonneg=True, name='ub')\n",
    "    lb = cp.Parameter(nonneg=True, name='lb')\n",
    "    net = cp.Parameter(nonneg=True, name='net')\n",
    "    gross = cp.Parameter(nonneg=True, name='gross')\n",
    "\n",
    "    # define objective, constraints and problem\n",
    "    objective = cp.Maximize(e_r - r_a * var)\n",
    "    constraints = [cp.sum(x) == net,\n",
    "                   cp.norm(x, 1) <= gross,\n",
    "                   x >= -lb,\n",
    "                   x <= ub]\n",
    "    problem = cp.Problem(objective, constraints)\n",
    "\n",
    "    # define parameter search space\n",
    "    r_a_values = np.logspace(-2, 3, num=100)\n",
    "    portfolios = []\n",
    "\n",
    "    # assign value to non-searching parameters\n",
    "    ub.value = 0.1\n",
    "    lb.value = 0.1\n",
    "    net.value = 0.0\n",
    "    gross.value = 1.0\n",
    "\n",
    "    for r_a_value in r_a_values:\n",
    "        r_a.value = r_a_value\n",
    "        problem.solve()\n",
    "        portfolios.append((r_a_value, e_r.value,\n",
    "                           var.value, x.value))\n",
    "\n",
    "    # portfolio with max shapre ratio (assume r_f = 0)\n",
    "    sharpe_ratios = [p[1] / np.sqrt(p[2]) for p in portfolios]\n",
    "    max_sharpe_idx = np.argmax(sharpe_ratios)\n",
    "    optimal_portfolio = portfolios[max_sharpe_idx]\n",
    "    portfolio_weights.append((date, universe,\n",
    "                              optimal_portfolio[3]))\n",
    "    \n",
    "    # run again with transaction cost"
   ]
  },
  {
   "cell_type": "code",
   "execution_count": null,
   "id": "5b749352-6fcf-4a6d-8884-ef3144368a42",
   "metadata": {},
   "outputs": [],
   "source": []
  },
  {
   "cell_type": "code",
   "execution_count": 6,
   "id": "89ed1992-2958-4fdc-b419-69dfe0239253",
   "metadata": {},
   "outputs": [],
   "source": [
    "i = 0\n",
    "date = portfolio_weights[i][0]\n",
    "date_1 = portfolio_weights[i+1][0]\n",
    "weight = pd.Series(portfolio_weights[i][2], index=portfolio_weights[i][1])\n",
    "idx = df_adjp.index.to_list().index(date)\n",
    "df_p = df_adjp[universe].loc[date:date_1]\n",
    "df_ret = df_p.pct_change().iloc[1:]"
   ]
  },
  {
   "cell_type": "code",
   "execution_count": null,
   "id": "4f2b78b5-aa69-4b56-a03c-6ede3c6ed60e",
   "metadata": {},
   "outputs": [],
   "source": []
  }
 ],
 "metadata": {
  "kernelspec": {
   "display_name": "Python 3 (ipykernel)",
   "language": "python",
   "name": "python3"
  },
  "language_info": {
   "codemirror_mode": {
    "name": "ipython",
    "version": 3
   },
   "file_extension": ".py",
   "mimetype": "text/x-python",
   "name": "python",
   "nbconvert_exporter": "python",
   "pygments_lexer": "ipython3",
   "version": "3.9.13"
  }
 },
 "nbformat": 4,
 "nbformat_minor": 5
}
