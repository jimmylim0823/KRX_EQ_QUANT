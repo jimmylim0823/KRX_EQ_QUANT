{
 "cells": [
  {
   "cell_type": "markdown",
   "id": "4b61d487-abd3-4c6b-a7dd-969391c85528",
   "metadata": {},
   "source": [
    "# Portfolio Construction"
   ]
  },
  {
   "cell_type": "code",
   "execution_count": 1,
   "id": "7126c37e-9c0b-46a4-b10f-3624b1fb0129",
   "metadata": {},
   "outputs": [],
   "source": [
    "import os\n",
    "import joblib\n",
    "import datetime\n",
    "from tqdm import tqdm\n",
    "import pandas as pd\n",
    "import numpy as np\n",
    "import matplotlib.pyplot as plt\n",
    "import seaborn as sns\n",
    "from catboost import CatBoostClassifier\n",
    "import cvxpy as cp\n",
    "from sklearn.covariance import LedoitWolf\n",
    "from pykrx import stock\n",
    "\n",
    "from Alpha_Research import Alpha_Research"
   ]
  },
  {
   "cell_type": "code",
   "execution_count": 2,
   "id": "a3161e9c-eb7a-4d06-bff2-01e30c3770d4",
   "metadata": {},
   "outputs": [],
   "source": [
    "data_folder = \"data\"\n",
    "model_folder = \"model\"\n",
    "\n",
    "stack_name = os.path.join(data_folder, \"data_stack.h5\")\n",
    "df_stack = pd.read_hdf(stack_name)"
   ]
  },
  {
   "cell_type": "code",
   "execution_count": 3,
   "id": "7c0dd7b3-b61a-45d4-9fe7-dc9d716723e9",
   "metadata": {},
   "outputs": [],
   "source": [
    "def qs_medians(train_df):\n",
    "    qs_medians = {}\n",
    "    \n",
    "    sectors = train_df['fgsc'].unique()\n",
    "    dates = train_df.index.get_level_values(0).unique()\n",
    "    \n",
    "    for sector in sectors:\n",
    "        qs_list = []\n",
    "        \n",
    "        sector_mask_train = (train_df['fgsc']==sector)\n",
    "        \n",
    "        df_train_sector = train_df[sector_mask_train]\n",
    "        \n",
    "        for dt in dates:\n",
    "            date_mask = (df_train_sector.index.get_level_values(0)==dt)\n",
    "            df_temp = df_train_sector[date_mask]\n",
    "            \n",
    "            qs = [df_temp['target'].quantile((2*i+1)/10) for i in range(5)]\n",
    "            qs_list.append(qs)\n",
    "        # median value to represent time-series wise\n",
    "        qs_median = pd.DataFrame(qs_list).median().to_list()\n",
    "        qs_medians[sector] = qs_median\n",
    "        \n",
    "    return qs_medians"
   ]
  },
  {
   "cell_type": "code",
   "execution_count": 4,
   "id": "a3c4e24c-f6c9-4622-9339-5fa00458158f",
   "metadata": {},
   "outputs": [],
   "source": [
    "def q_restoring(q_label, test_df, qs_medians):\n",
    "    test_targets = []\n",
    "    q_label = pd.Series(q_label, index=test_df.index)\n",
    "    \n",
    "    sectors = test_df['fgsc'].unique()\n",
    "    \n",
    "    for sector in sectors:\n",
    "        sector_mask_test = (test_df['fgsc']==sector)\n",
    "        q_label_sector = q_label[sector_mask_test]\n",
    "        qs_median = qs_medians[sector]\n",
    "        test_targets.append(q_label_sector.apply(lambda x: qs_median[int(x)-1]))\n",
    "    \n",
    "    restored_target_test = pd.concat(test_targets).loc[test_df.index]\n",
    "    return restored_target_test"
   ]
  },
  {
   "cell_type": "code",
   "execution_count": 5,
   "id": "e992f339-aff5-4281-8ff1-66404129c8b7",
   "metadata": {},
   "outputs": [],
   "source": [
    "ar = Alpha_Research()"
   ]
  },
  {
   "cell_type": "code",
   "execution_count": 6,
   "id": "0fe8b8cb-998f-497e-a9de-373596ca51b6",
   "metadata": {},
   "outputs": [],
   "source": [
    "def ledoit_wolf_cov(price_data, universe, scaling=252/12):\n",
    "    df_ret = (1+price_data.pct_change()).apply(np.log).iloc[1:]\n",
    "    df_ret = df_ret.T.fillna(df_ret.mean(axis=1)).T\n",
    "    cov = LedoitWolf().fit(df_ret)\n",
    "    df_cov = pd.DataFrame(cov.covariance_*np.sqrt(scaling),\n",
    "                      index=universe, columns=universe)\n",
    "    return df_cov"
   ]
  },
  {
   "cell_type": "code",
   "execution_count": 7,
   "id": "03d76e04-5c62-4373-a514-240f6e23714a",
   "metadata": {},
   "outputs": [],
   "source": [
    "df_isos_year = {}\n",
    "models_dict = {}\n",
    "\n",
    "for year in range(2018, 2023):\n",
    "    index_year_1 = (df_stack.index.get_level_values(0).year<=year)\n",
    "    index_year_2 = (df_stack.index.get_level_values(0).year<=year+1)\n",
    "    \n",
    "    df_stack_is = df_stack[index_year_1]\n",
    "    df_stack_os = df_stack[~index_year_1&index_year_2]\n",
    "    df_isos_year[year] = [df_stack_is.copy(), df_stack_os.copy()]\n",
    "    \n",
    "    model_name = os.path.join(model_folder, f\"cat_{year}.json\")\n",
    "    model = CatBoostClassifier()\n",
    "    model.load_model(model_name)\n",
    "    models_dict[year] = model"
   ]
  },
  {
   "cell_type": "markdown",
   "id": "d83af685-167c-4cbd-81a1-01a79407515a",
   "metadata": {},
   "source": [
    "# Out-Of-Sample Only"
   ]
  },
  {
   "cell_type": "code",
   "execution_count": 8,
   "id": "02494923-f254-46c9-b8cc-78e7891c90ff",
   "metadata": {},
   "outputs": [
    {
     "name": "stderr",
     "output_type": "stream",
     "text": [
      "100%|██████████████████████████████████████████████████████████████████████████████████| 54/54 [00:59<00:00,  1.11s/it]\n"
     ]
    }
   ],
   "source": [
    "# portfolio optimization\n",
    "portfolio_opt_results = dict()\n",
    "\n",
    "time_index = df_stack.index.get_level_values(0).unique()\n",
    "time_index = time_index[time_index.year>=2019]\n",
    "\n",
    "year_memory = None\n",
    "for dt in tqdm(time_index):\n",
    "    # use updated training file\n",
    "    df_is = df_isos_year[dt.year-1][0].copy()\n",
    "    df_os = df_isos_year[dt.year-1][1].copy()\n",
    "    dataset = df_os.copy()\n",
    "\n",
    "    df_os_dts = df_os.reset_index()['Date']\n",
    "    df_os_dt = df_os_dts[~df_os_dts.duplicated()].to_list()\n",
    "\n",
    "    model = CatBoostClassifier()\n",
    "    model = models_dict[dt.year-1]\n",
    "    \n",
    "    if dt.year != year_memory:\n",
    "        qs_median = qs_medians(df_is)\n",
    "        year_memory = dt.year\n",
    "    else:\n",
    "        pass\n",
    "    \n",
    "    # expexted return\n",
    "    temp_sectors = ar.sector_dict[dt]\n",
    "    X = dataset[dataset.index.get_level_values(0)==dt].iloc[:,:-1]\n",
    "    universe = X.index.get_level_values(1)\n",
    "    temp_index_weight = pd.Series(ar.data_weight[dt])[universe]\n",
    "    y_q = pd.Series(model.predict(X).reshape(len(X)), index=X.index)\n",
    "    y = q_restoring(y_q, X, qs_median).to_numpy()\n",
    "    # boolean mask for sector\n",
    "    w_s = []\n",
    "    for sc in temp_sectors.keys():\n",
    "        w_s.append(temp_index_weight.index.isin(temp_sectors[sc]))\n",
    "        \n",
    "    # covariance estimation with Ledoit-Wolf Shirnkage\n",
    "    idx = ar.d['ADJC'].index.to_list().index(dt)\n",
    "    df_p = ar.d['ADJC'][universe].iloc[idx-252*3:idx+1]\n",
    "    df_cov = ledoit_wolf_cov(df_p, universe)\n",
    "\n",
    "    # long-short mean variance optimization\n",
    "    # define variables\n",
    "    w = cp.Variable(len(universe))\n",
    "    var = cp.quad_form(w, df_cov.to_numpy())\n",
    "    e_r = y @ w\n",
    "\n",
    "    ub = cp.Parameter(nonneg=True, name='ub')\n",
    "    lb = cp.Parameter(nonneg=True, name='lb')\n",
    "    net = cp.Parameter(nonneg=True, name='net')\n",
    "    gross = cp.Parameter(nonneg=True, name='gross')\n",
    "    target = cp.Parameter(nonneg=True, name='target')\n",
    "    sc_net = cp.Parameter(nonneg=True, name='sc_net')\n",
    "    sc_gross = cp.Parameter(nonneg=True, name='sc_gross')\n",
    "    \n",
    "    idx_w = temp_index_weight.to_numpy()\n",
    "\n",
    "    # define objective, constraints and problem\n",
    "    objective = cp.Maximize(e_r)\n",
    "    constraints = [var <= target,\n",
    "                   cp.sum(w) == net,\n",
    "                   cp.sum(cp.abs(w)) <= gross,\n",
    "                   w >= -lb,\n",
    "                   w <= ub,\n",
    "                   w >= -idx_w]\n",
    "    \n",
    "    for i in range(len(w_s)):\n",
    "        constraints.append(cp.sum(w @ w_s[i]) == sc_net)\n",
    "        constraints.append(cp.sum(cp.abs(w @ w_s[i])) <= gross * (w_s[i] @ idx_w))\n",
    "\n",
    "    problem = cp.Problem(objective, constraints)\n",
    "\n",
    "    # assign value to parameters\n",
    "    target.value = 0.20\n",
    "    net.value = 0.0\n",
    "    gross.value = 2.0\n",
    "    ub.value = 0.15 * gross.value\n",
    "    lb.value = 0.15 * gross.value\n",
    "    sc_net.value = 0.00\n",
    "    \n",
    "    # solve\n",
    "    problem.solve()\n",
    "    portfolio_opt_results[dt] = {'E_r':e_r.value,\n",
    "                                 'var':var.value,\n",
    "                                 'w':w.value,\n",
    "                                 'universe':universe,\n",
    "                                 'index':idx_w}"
   ]
  },
  {
   "cell_type": "code",
   "execution_count": 9,
   "id": "ec743dce-e476-44db-a131-8f0a0a20e2ed",
   "metadata": {},
   "outputs": [
    {
     "name": "stderr",
     "output_type": "stream",
     "text": [
      "100%|█████████████████████████████████████████████████████████████████████████████████| 54/54 [00:00<00:00, 984.46it/s]\n"
     ]
    }
   ],
   "source": [
    "bt_dict = dict()\n",
    "for dt in tqdm(time_index):\n",
    "    temp_opt = portfolio_opt_results[dt]\n",
    "    temp_universe = temp_opt['universe']\n",
    "    temp_target = ar.df_target.loc[dt][temp_universe]\n",
    "    ls_w = temp_opt['w']\n",
    "    lo_w = temp_opt['w'] + temp_opt['index']\n",
    "    bt_dict[dt] = {'Long-Short':(ls_w * temp_target).sum(),\n",
    "                   'Long-Only':(lo_w * temp_target).sum()}"
   ]
  },
  {
   "cell_type": "code",
   "execution_count": 10,
   "id": "39571852-210a-4f5c-9c52-189afdc74c3f",
   "metadata": {},
   "outputs": [],
   "source": [
    "bt_ret = pd.DataFrame(bt_dict).T\n",
    "benchmark = ar.data_index['KS200']\n",
    "# shift 1 month\n",
    "start = bt_ret.index[1]\n",
    "end = benchmark[benchmark.index>bt_ret.index[-1]].index[0]\n",
    "new_index = benchmark[(benchmark.index>=start)&(benchmark.index<=end)].index\n",
    "bt_ret.set_index(new_index, inplace=True)\n",
    "bt_ret['KS200'] = benchmark / 100\n",
    "bt_cum = (1+bt_ret).cumprod()"
   ]
  },
  {
   "cell_type": "code",
   "execution_count": 11,
   "id": "3ede3b1e-91b2-49d5-ac6a-a75ae101865f",
   "metadata": {},
   "outputs": [
    {
     "data": {
      "text/plain": [
       "['portfolio\\\\portfolio.sav']"
      ]
     },
     "execution_count": 11,
     "metadata": {},
     "output_type": "execute_result"
    }
   ],
   "source": [
    "portfolio_path = \"portfolio\"\n",
    "portfolios = [bt_ret, bt_cum]\n",
    "joblib.dump(portfolios, os.path.join(portfolio_path, 'portfolio.sav'), compress=1)"
   ]
  },
  {
   "cell_type": "code",
   "execution_count": 12,
   "id": "2562e7a6-6ae6-4dc2-9c13-8402d71b04bd",
   "metadata": {},
   "outputs": [
    {
     "data": {
      "image/png": "[encoded data removed]",
      "text/plain": [
       "<Figure size 640x480 with 1 Axes>"
      ]
     },
     "metadata": {},
     "output_type": "display_data"
    }
   ],
   "source": [
    "plot_name = os.path.join(portfolio_path, 'Portfolio_Value_OS.png')\n",
    "fig1, ax1 = plt.subplots()\n",
    "bt_cum.plot(ax=ax1)\n",
    "ax1.set_title(\"Cumulative Portfolio Value: Out-Of-Sample\")\n",
    "ax1.set_xlabel(\"Date\")\n",
    "ax1.set_ylabel(\"Value\")\n",
    "ax1.legend()\n",
    "fig1.figure.savefig(plot_name, bbox_inches='tight', dpi=300)"
   ]
  },
  {
   "cell_type": "code",
   "execution_count": 13,
   "id": "e8046961-a3d6-43e3-89c0-3000bcece50c",
   "metadata": {},
   "outputs": [],
   "source": [
    "pd.set_option('display.float_format', '{:.4%}'.format)"
   ]
  },
  {
   "cell_type": "code",
   "execution_count": 14,
   "id": "90b89750-0a30-4d79-81cb-9331a3a3bb5e",
   "metadata": {},
   "outputs": [],
   "source": [
    "sector_name = {'FGSC.55':'유틸리티',\n",
    "               'FGSC.40':'금융',\n",
    "               'FGSC.30':'필수소비재',\n",
    "               'FGSC.35':'의료',\n",
    "               'FGSC.20':'산업재',\n",
    "               'FGSC.50':'통신서비스',\n",
    "               'FGSC.15':'소재',\n",
    "               'FGSC.45':'IT',\n",
    "               'FGSC.25':'경기소비재',\n",
    "               'FGSC.10':'에너지'}"
   ]
  },
  {
   "cell_type": "code",
   "execution_count": 20,
   "id": "e8974107-2c03-4d6e-9b0d-2e26fa762d8c",
   "metadata": {},
   "outputs": [
    {
     "name": "stderr",
     "output_type": "stream",
     "text": [
      "100%|██████████████████████████████████████████████████████████████████████████████████| 12/12 [00:00<00:00, 13.55it/s]\n"
     ]
    }
   ],
   "source": [
    "for i in tqdm(range(24, 36)):\n",
    "    dt = time_index[i]\n",
    "    temp_opt = portfolio_opt_results[dt]\n",
    "    universe = temp_opt['universe']\n",
    "    name = [stock.get_market_ticker_name(i[1:]) for i in universe]\n",
    "    active_weight = temp_opt['w']\n",
    "    passive_weight = temp_opt['index']\n",
    "\n",
    "    df_w = pd.DataFrame({'Active_Weight':active_weight,\n",
    "                         'Passive_Weight':passive_weight}, index=name)\n",
    "    df_w['Total_Weight'] = df_w['Active_Weight'] + df_w['Passive_Weight']\n",
    "    df_w['Sector'] = [sector_name[ar.fgsc[i]] for i in universe]\n",
    "    df_w = df_w.sort_values(by='Total_Weight', ascending=False)\n",
    "\n",
    "    weight_name = f\"Portfolio_Weight_{dt.strftime('%Y%m%d')}.xlsx\"\n",
    "    weight_dir = os.path.join(portfolio_path, weight_name)\n",
    "    df_w.to_excel(weight_dir)"
   ]
  }
 ],
 "metadata": {
  "kernelspec": {
   "display_name": "Python 3 (ipykernel)",
   "language": "python",
   "name": "python3"
  },
  "language_info": {
   "codemirror_mode": {
    "name": "ipython",
    "version": 3
   },
   "file_extension": ".py",
   "mimetype": "text/x-python",
   "name": "python",
   "nbconvert_exporter": "python",
   "pygments_lexer": "ipython3",
   "version": "3.9.13"
  }
 },
 "nbformat": 4,
 "nbformat_minor": 5
}
