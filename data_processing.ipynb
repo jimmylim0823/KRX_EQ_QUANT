{
 "cells": [
  {
   "cell_type": "markdown",
   "id": "1e9e980a-5e89-4bb0-8364-a0f7b62f4acc",
   "metadata": {},
   "source": [
    "# Data Processing"
   ]
  },
  {
   "cell_type": "code",
   "execution_count": 1,
   "id": "f716e381-aa4f-4f49-93ec-3d2f156c3ed3",
   "metadata": {},
   "outputs": [],
   "source": [
    "import os\n",
    "import datetime\n",
    "import pandas as pd\n",
    "import numpy as np\n",
    "from tqdm import tqdm\n",
    "import joblib"
   ]
  },
  {
   "cell_type": "code",
   "execution_count": 2,
   "id": "f284b41e-0914-4702-afab-26a4ae095b55",
   "metadata": {},
   "outputs": [],
   "source": [
    "folder_path = \"data\""
   ]
  },
  {
   "cell_type": "code",
   "execution_count": 3,
   "id": "bf98c578-2b09-445e-87f7-e953e190771a",
   "metadata": {},
   "outputs": [
    {
     "name": "stderr",
     "output_type": "stream",
     "text": [
      "100%|████████████████████████████████████████████████████████████████████████████████████| 5/5 [02:03<00:00, 24.65s/it]\n"
     ]
    }
   ],
   "source": [
    "file_name = \"DATA_DAILY.xlsx\"\n",
    "file_path = os.path.join(folder_path, file_name)\n",
    "sheet_list = pd.ExcelFile(file_path).sheet_names\n",
    "data_daily = dict()\n",
    "for sheet in tqdm(sheet_list):\n",
    "    temp = pd.read_excel(file_path,\n",
    "                         sheet_name=sheet,\n",
    "                         header=8,\n",
    "                         index_col=0,\n",
    "                         skiprows=range(9,14))\n",
    "    temp = temp.astype(\"float64\")\n",
    "    temp.index.name = \"Date\"\n",
    "    data_daily[sheet] = temp\n",
    "    temp = pd.DataFrame()"
   ]
  },
  {
   "cell_type": "code",
   "execution_count": 4,
   "id": "142639f6-57a6-44a5-9db0-7eb8609be12a",
   "metadata": {},
   "outputs": [
    {
     "name": "stderr",
     "output_type": "stream",
     "text": [
      "100%|██████████████████████████████████████████████████████████████████████████████████| 18/18 [00:22<00:00,  1.25s/it]\n"
     ]
    }
   ],
   "source": [
    "accounting_lag = 3 # lagging for accounting variables\n",
    "nan_replacements = ['N/A(IFRS)', '완전잠식', '적전', '흑전', '적지']\n",
    "file_name = \"DATA_MONTHLY_ACCOUNTING.xlsx\"\n",
    "file_path = os.path.join(folder_path, file_name)\n",
    "sheet_list = pd.ExcelFile(file_path).sheet_names\n",
    "data_monthly_acc = dict()\n",
    "for sheet in tqdm(sheet_list):\n",
    "    temp = pd.read_excel(file_path,\n",
    "                         sheet_name=sheet,\n",
    "                         header=8,\n",
    "                         index_col=0,\n",
    "                         skiprows=range(9,14))\n",
    "    temp = temp.replace(nan_replacements, np.nan)\n",
    "    temp = temp.astype(\"float64\")\n",
    "    temp.index.name = \"Date\"\n",
    "    temp = temp.fillna(method=\"ffill\")\n",
    "    temp = temp.shift(accounting_lag)\n",
    "    data_monthly_acc[sheet] = temp\n",
    "    temp = pd.DataFrame()"
   ]
  },
  {
   "cell_type": "code",
   "execution_count": 5,
   "id": "6a3f7afb-6a24-4ef2-b932-cd113c87cd2d",
   "metadata": {},
   "outputs": [
    {
     "name": "stderr",
     "output_type": "stream",
     "text": [
      "100%|██████████████████████████████████████████████████████████████████████████████████| 24/24 [00:30<00:00,  1.26s/it]\n"
     ]
    }
   ],
   "source": [
    "file_name = \"DATA_MONTHLY_MARKET.xlsx\"\n",
    "file_path = os.path.join(folder_path, file_name)\n",
    "sheet_list = pd.ExcelFile(file_path).sheet_names\n",
    "data_monthly_mkt = dict()\n",
    "for sheet in tqdm(sheet_list):\n",
    "    temp = pd.read_excel(file_path,\n",
    "                         sheet_name=sheet,\n",
    "                         header=8,\n",
    "                         index_col=0,\n",
    "                         skiprows=range(9,14))\n",
    "    temp = temp.astype(\"float64\")\n",
    "    temp.index.name = \"Date\"\n",
    "    data_monthly_mkt[sheet] = temp\n",
    "    temp = pd.DataFrame()"
   ]
  },
  {
   "cell_type": "code",
   "execution_count": 6,
   "id": "a1927bb9-de7d-4e30-acd3-0375199d841b",
   "metadata": {},
   "outputs": [
    {
     "name": "stderr",
     "output_type": "stream",
     "text": [
      "100%|████████████████████████████████████████████████████████████████████████████████████| 5/5 [00:00<00:00,  6.04it/s]\n"
     ]
    }
   ],
   "source": [
    "file_name = \"DATA_INDEX.xlsx\"\n",
    "file_path = os.path.join(folder_path, file_name)\n",
    "sheet_list = pd.ExcelFile(file_path).sheet_names\n",
    "data_index = dict()\n",
    "for sheet in tqdm(sheet_list):\n",
    "    temp = pd.read_excel(file_path,\n",
    "                         sheet_name=sheet,\n",
    "                         header=8,\n",
    "                         index_col=0,\n",
    "                         skiprows=range(9,14))\n",
    "    temp = temp.astype(\"float64\")\n",
    "    temp.index.name = \"Date\"\n",
    "    temp.drop(temp.columns[-1], axis=1, inplace=True)\n",
    "    temp.rename(columns={temp.columns[-1]:sheet}, inplace=True)\n",
    "    data_index[sheet] = temp\n",
    "    temp = pd.DataFrame()"
   ]
  },
  {
   "cell_type": "code",
   "execution_count": 7,
   "id": "ebcce06e-7fa7-4cd5-b14f-ae3b38d17194",
   "metadata": {},
   "outputs": [
    {
     "name": "stderr",
     "output_type": "stream",
     "text": [
      "100%|████████████████████████████████████████████████████████████████████████████████████| 3/3 [00:03<00:00,  1.21s/it]\n"
     ]
    }
   ],
   "source": [
    "file_name = \"DATA_CLASSIFICATION.xlsx\"\n",
    "file_path = os.path.join(folder_path, file_name)\n",
    "sheet_list = pd.ExcelFile(file_path).sheet_names\n",
    "data_classification = dict()\n",
    "for sheet in tqdm(sheet_list):\n",
    "    temp = pd.read_excel(file_path,\n",
    "                         sheet_name=sheet,\n",
    "                         header=8,\n",
    "                         index_col=0,\n",
    "                         skiprows=range(9,14))\n",
    "    temp.index.name = \"Date\"\n",
    "    data_classification[sheet] = temp\n",
    "    temp = pd.DataFrame()"
   ]
  },
  {
   "cell_type": "code",
   "execution_count": 8,
   "id": "1250e7ec-e27b-47c2-8ee8-648c2ab7573b",
   "metadata": {},
   "outputs": [
    {
     "name": "stderr",
     "output_type": "stream",
     "text": [
      "100%|███████████████████████████████████████████████████████████████████████████████| 155/155 [00:01<00:00, 108.84it/s]\n"
     ]
    }
   ],
   "source": [
    "data_weight = dict()\n",
    "path_kodex200 = os.path.join(folder_path, \"Kodex_200\")\n",
    "for file_name in tqdm(os.listdir(path_kodex200)):\n",
    "    date_str = os.path.splitext(file_name)[0][-8:]\n",
    "    date = datetime.datetime.strptime(date_str, \"%Y%m%d\")\n",
    "    directory = os.path.join(path_kodex200, file_name)\n",
    "    temp = pd.read_excel(directory, header=2)\n",
    "    temp = temp[temp['종목명']!=\"원화예금\"]\n",
    "    temp = temp[['종목코드', '비중(%)']]\n",
    "    temp.rename(columns={'비중(%)':'비중'}, inplace=True)\n",
    "    temp['종목코드'] = \"A\" + temp['종목코드']\n",
    "    data_weight[date] = temp.set_index(\"종목코드\").to_dict()['비중']"
   ]
  },
  {
   "cell_type": "code",
   "execution_count": 9,
   "id": "91ea3419-9bf2-4ad8-b3a0-8605c4c277aa",
   "metadata": {},
   "outputs": [
    {
     "data": {
      "text/plain": [
       "['data\\\\data.sav']"
      ]
     },
     "execution_count": 9,
     "metadata": {},
     "output_type": "execute_result"
    }
   ],
   "source": [
    "datas = [data_daily, data_monthly_acc, data_monthly_mkt,\n",
    "        data_index, data_classification, data_weight]\n",
    "joblib.dump(datas, os.path.join(folder_path, 'data.sav'), compress=1)"
   ]
  },
  {
   "cell_type": "code",
   "execution_count": null,
   "id": "e5b2fb73-b013-49a1-965c-b92e73829c93",
   "metadata": {},
   "outputs": [],
   "source": []
  }
 ],
 "metadata": {
  "kernelspec": {
   "display_name": "Python 3 (ipykernel)",
   "language": "python",
   "name": "python3"
  },
  "language_info": {
   "codemirror_mode": {
    "name": "ipython",
    "version": 3
   },
   "file_extension": ".py",
   "mimetype": "text/x-python",
   "name": "python",
   "nbconvert_exporter": "python",
   "pygments_lexer": "ipython3",
   "version": "3.9.13"
  }
 },
 "nbformat": 4,
 "nbformat_minor": 5
}
